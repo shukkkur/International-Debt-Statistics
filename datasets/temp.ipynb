{
 "cells": [
  {
   "cell_type": "markdown",
   "metadata": {
    "dc": {
     "key": "4"
    },
    "deletable": false,
    "editable": false,
    "run_control": {
     "frozen": true
    },
    "tags": [
     "context"
    ]
   },
   "source": [
    "## 1. The World Bank's international debt data\n",
    "<p>It's not that we humans only take debts to manage our necessities. A country may also take debt to manage its economy. For example, infrastructure spending is one costly ingredient required for a country's citizens to lead comfortable lives. <a href=\"https://www.worldbank.org\">The World Bank</a> is the organization that provides debt to countries.</p>\n",
    "<p>In this notebook, we are going to analyze international debt data collected by The World Bank. The dataset contains information about the amount of debt (in USD) owed by developing countries across several categories. We are going to find the answers to questions like: </p>\n",
    "<ul>\n",
    "<li>What is the total amount of debt that is owed by the countries listed in the dataset?</li>\n",
    "<li>Which country owns the maximum amount of debt and what does that amount look like?</li>\n",
    "<li>What is the average amount of debt owed by countries across different debt indicators?</li>\n",
    "</ul>\n",
    "<p><img src=\"https://assets.datacamp.com/production/project_754/img/image.jpg\" alt></p>\n",
    "<p>The first line of code connects us to the <code>international_debt</code> database where the table <code>international_debt</code> is residing. Let's first <code>SELECT</code> <em>all</em> of the columns from the <code>international_debt</code> table. Also, we'll limit the output to the first ten rows to keep the output clean.</p>"
   ]
  },
  {
   "cell_type": "code",
   "execution_count": 29,
   "metadata": {
    "dc": {
     "key": "4"
    },
    "tags": [
     "sample_code"
    ]
   },
   "outputs": [
    {
     "name": "stdout",
     "output_type": "stream",
     "text": [
      "10 rows affected.\n"
     ]
    },
    {
     "data": {
      "text/html": [
       "<table>\n",
       "    <tr>\n",
       "        <th>country_name</th>\n",
       "        <th>country_code</th>\n",
       "        <th>indicator_name</th>\n",
       "        <th>indicator_code</th>\n",
       "        <th>debt</th>\n",
       "    </tr>\n",
       "    <tr>\n",
       "        <td>Afghanistan</td>\n",
       "        <td>AFG</td>\n",
       "        <td>Disbursements on external debt, long-term (DIS, current US$)</td>\n",
       "        <td>DT.DIS.DLXF.CD</td>\n",
       "        <td>72894453.700000003</td>\n",
       "    </tr>\n",
       "    <tr>\n",
       "        <td>Afghanistan</td>\n",
       "        <td>AFG</td>\n",
       "        <td>Interest payments on external debt, long-term (INT, current US$)</td>\n",
       "        <td>DT.INT.DLXF.CD</td>\n",
       "        <td>53239440.100000001</td>\n",
       "    </tr>\n",
       "    <tr>\n",
       "        <td>Afghanistan</td>\n",
       "        <td>AFG</td>\n",
       "        <td>PPG, bilateral (AMT, current US$)</td>\n",
       "        <td>DT.AMT.BLAT.CD</td>\n",
       "        <td>61739336.899999999</td>\n",
       "    </tr>\n",
       "    <tr>\n",
       "        <td>Afghanistan</td>\n",
       "        <td>AFG</td>\n",
       "        <td>PPG, bilateral (DIS, current US$)</td>\n",
       "        <td>DT.DIS.BLAT.CD</td>\n",
       "        <td>49114729.399999999</td>\n",
       "    </tr>\n",
       "    <tr>\n",
       "        <td>Afghanistan</td>\n",
       "        <td>AFG</td>\n",
       "        <td>PPG, bilateral (INT, current US$)</td>\n",
       "        <td>DT.INT.BLAT.CD</td>\n",
       "        <td>39903620.100000001</td>\n",
       "    </tr>\n",
       "    <tr>\n",
       "        <td>Afghanistan</td>\n",
       "        <td>AFG</td>\n",
       "        <td>PPG, multilateral (AMT, current US$)</td>\n",
       "        <td>DT.AMT.MLAT.CD</td>\n",
       "        <td>39107845</td>\n",
       "    </tr>\n",
       "    <tr>\n",
       "        <td>Afghanistan</td>\n",
       "        <td>AFG</td>\n",
       "        <td>PPG, multilateral (DIS, current US$)</td>\n",
       "        <td>DT.DIS.MLAT.CD</td>\n",
       "        <td>23779724.300000001</td>\n",
       "    </tr>\n",
       "    <tr>\n",
       "        <td>Afghanistan</td>\n",
       "        <td>AFG</td>\n",
       "        <td>PPG, multilateral (INT, current US$)</td>\n",
       "        <td>DT.INT.MLAT.CD</td>\n",
       "        <td>13335820</td>\n",
       "    </tr>\n",
       "    <tr>\n",
       "        <td>Afghanistan</td>\n",
       "        <td>AFG</td>\n",
       "        <td>PPG, official creditors (AMT, current US$)</td>\n",
       "        <td>DT.AMT.OFFT.CD</td>\n",
       "        <td>100847181.900000006</td>\n",
       "    </tr>\n",
       "    <tr>\n",
       "        <td>Afghanistan</td>\n",
       "        <td>AFG</td>\n",
       "        <td>PPG, official creditors (DIS, current US$)</td>\n",
       "        <td>DT.DIS.OFFT.CD</td>\n",
       "        <td>72894453.700000003</td>\n",
       "    </tr>\n",
       "</table>"
      ],
      "text/plain": [
       "[('Afghanistan', 'AFG', 'Disbursements on external debt, long-term (DIS, current US$)', 'DT.DIS.DLXF.CD', Decimal('72894453.700000003')),\n",
       " ('Afghanistan', 'AFG', 'Interest payments on external debt, long-term (INT, current US$)', 'DT.INT.DLXF.CD', Decimal('53239440.100000001')),\n",
       " ('Afghanistan', 'AFG', 'PPG, bilateral (AMT, current US$)', 'DT.AMT.BLAT.CD', Decimal('61739336.899999999')),\n",
       " ('Afghanistan', 'AFG', 'PPG, bilateral (DIS, current US$)', 'DT.DIS.BLAT.CD', Decimal('49114729.399999999')),\n",
       " ('Afghanistan', 'AFG', 'PPG, bilateral (INT, current US$)', 'DT.INT.BLAT.CD', Decimal('39903620.100000001')),\n",
       " ('Afghanistan', 'AFG', 'PPG, multilateral (AMT, current US$)', 'DT.AMT.MLAT.CD', Decimal('39107845')),\n",
       " ('Afghanistan', 'AFG', 'PPG, multilateral (DIS, current US$)', 'DT.DIS.MLAT.CD', Decimal('23779724.300000001')),\n",
       " ('Afghanistan', 'AFG', 'PPG, multilateral (INT, current US$)', 'DT.INT.MLAT.CD', Decimal('13335820')),\n",
       " ('Afghanistan', 'AFG', 'PPG, official creditors (AMT, current US$)', 'DT.AMT.OFFT.CD', Decimal('100847181.900000006')),\n",
       " ('Afghanistan', 'AFG', 'PPG, official creditors (DIS, current US$)', 'DT.DIS.OFFT.CD', Decimal('72894453.700000003'))]"
      ]
     },
     "execution_count": 29,
     "metadata": {},
     "output_type": "execute_result"
    }
   ],
   "source": [
    "%%sql\n",
    "postgresql:///international_debt\n",
    "\n",
    "SELECT * \n",
    "FROM international_debt\n",
    "LIMIT 10;"
   ]
  },
  {
   "cell_type": "markdown",
   "metadata": {
    "dc": {
     "key": "12"
    },
    "deletable": false,
    "editable": false,
    "run_control": {
     "frozen": true
    },
    "tags": [
     "context"
    ]
   },
   "source": [
    "## 2. Finding the number of distinct countries\n",
    "<p>From the first ten rows, we can see the amount of debt owed by <em>Afghanistan</em> in the different debt indicators. But we do not know the number of different countries we have on the table. There are repetitions in the country names because a country is most likely to have debt in more than one debt indicator. </p>\n",
    "<p>Without a count of unique countries, we will not be able to perform our statistical analyses holistically. In this section, we are going to extract the number of unique countries present in the table. </p>"
   ]
  },
  {
   "cell_type": "code",
   "execution_count": 31,
   "metadata": {
    "dc": {
     "key": "12"
    },
    "tags": [
     "sample_code"
    ]
   },
   "outputs": [
    {
     "name": "stdout",
     "output_type": "stream",
     "text": [
      " * postgresql:///international_debt\n",
      "1 rows affected.\n"
     ]
    },
    {
     "data": {
      "text/html": [
       "<table>\n",
       "    <tr>\n",
       "        <th>total_distinct_countries</th>\n",
       "    </tr>\n",
       "    <tr>\n",
       "        <td>2357</td>\n",
       "    </tr>\n",
       "</table>"
      ],
      "text/plain": [
       "[(2357,)]"
      ]
     },
     "execution_count": 31,
     "metadata": {},
     "output_type": "execute_result"
    }
   ],
   "source": [
    "%%sql\n",
    "SELECT DISTINCT(COUNT(country_name)) AS total_distinct_countries\n",
    "FROM international_debt;"
   ]
  },
  {
   "cell_type": "markdown",
   "metadata": {
    "dc": {
     "key": "20"
    },
    "deletable": false,
    "editable": false,
    "run_control": {
     "frozen": true
    },
    "tags": [
     "context"
    ]
   },
   "source": [
    "## 3. Finding out the distinct debt indicators\n",
    "<p>We can see there are a total of 124 countries present on the table. As we saw in the first section, there is a column called <code>indicator_name</code> that briefly specifies the purpose of taking the debt. Just beside that column, there is another column called <code>indicator_code</code> which symbolizes the category of these debts. Knowing about these various debt indicators will help us to understand the areas in which a country can possibly be indebted to. </p>"
   ]
  },
  {
   "cell_type": "code",
   "execution_count": 33,
   "metadata": {
    "dc": {
     "key": "20"
    },
    "tags": [
     "sample_code"
    ]
   },
   "outputs": [
    {
     "name": "stdout",
     "output_type": "stream",
     "text": [
      " * postgresql:///international_debt\n",
      "25 rows affected.\n"
     ]
    },
    {
     "data": {
      "text/html": [
       "<table>\n",
       "    <tr>\n",
       "        <th>distinct_debt_indicators</th>\n",
       "    </tr>\n",
       "    <tr>\n",
       "        <td>DT.AMT.BLAT.CD</td>\n",
       "    </tr>\n",
       "    <tr>\n",
       "        <td>DT.AMT.DLXF.CD</td>\n",
       "    </tr>\n",
       "    <tr>\n",
       "        <td>DT.AMT.DPNG.CD</td>\n",
       "    </tr>\n",
       "    <tr>\n",
       "        <td>DT.AMT.MLAT.CD</td>\n",
       "    </tr>\n",
       "    <tr>\n",
       "        <td>DT.AMT.OFFT.CD</td>\n",
       "    </tr>\n",
       "    <tr>\n",
       "        <td>DT.AMT.PBND.CD</td>\n",
       "    </tr>\n",
       "    <tr>\n",
       "        <td>DT.AMT.PCBK.CD</td>\n",
       "    </tr>\n",
       "    <tr>\n",
       "        <td>DT.AMT.PROP.CD</td>\n",
       "    </tr>\n",
       "    <tr>\n",
       "        <td>DT.AMT.PRVT.CD</td>\n",
       "    </tr>\n",
       "    <tr>\n",
       "        <td>DT.DIS.BLAT.CD</td>\n",
       "    </tr>\n",
       "    <tr>\n",
       "        <td>DT.DIS.DLXF.CD</td>\n",
       "    </tr>\n",
       "    <tr>\n",
       "        <td>DT.DIS.MLAT.CD</td>\n",
       "    </tr>\n",
       "    <tr>\n",
       "        <td>DT.DIS.OFFT.CD</td>\n",
       "    </tr>\n",
       "    <tr>\n",
       "        <td>DT.DIS.PCBK.CD</td>\n",
       "    </tr>\n",
       "    <tr>\n",
       "        <td>DT.DIS.PROP.CD</td>\n",
       "    </tr>\n",
       "    <tr>\n",
       "        <td>DT.DIS.PRVT.CD</td>\n",
       "    </tr>\n",
       "    <tr>\n",
       "        <td>DT.INT.BLAT.CD</td>\n",
       "    </tr>\n",
       "    <tr>\n",
       "        <td>DT.INT.DLXF.CD</td>\n",
       "    </tr>\n",
       "    <tr>\n",
       "        <td>DT.INT.DPNG.CD</td>\n",
       "    </tr>\n",
       "    <tr>\n",
       "        <td>DT.INT.MLAT.CD</td>\n",
       "    </tr>\n",
       "    <tr>\n",
       "        <td>DT.INT.OFFT.CD</td>\n",
       "    </tr>\n",
       "    <tr>\n",
       "        <td>DT.INT.PBND.CD</td>\n",
       "    </tr>\n",
       "    <tr>\n",
       "        <td>DT.INT.PCBK.CD</td>\n",
       "    </tr>\n",
       "    <tr>\n",
       "        <td>DT.INT.PROP.CD</td>\n",
       "    </tr>\n",
       "    <tr>\n",
       "        <td>DT.INT.PRVT.CD</td>\n",
       "    </tr>\n",
       "</table>"
      ],
      "text/plain": [
       "[('DT.AMT.BLAT.CD',),\n",
       " ('DT.AMT.DLXF.CD',),\n",
       " ('DT.AMT.DPNG.CD',),\n",
       " ('DT.AMT.MLAT.CD',),\n",
       " ('DT.AMT.OFFT.CD',),\n",
       " ('DT.AMT.PBND.CD',),\n",
       " ('DT.AMT.PCBK.CD',),\n",
       " ('DT.AMT.PROP.CD',),\n",
       " ('DT.AMT.PRVT.CD',),\n",
       " ('DT.DIS.BLAT.CD',),\n",
       " ('DT.DIS.DLXF.CD',),\n",
       " ('DT.DIS.MLAT.CD',),\n",
       " ('DT.DIS.OFFT.CD',),\n",
       " ('DT.DIS.PCBK.CD',),\n",
       " ('DT.DIS.PROP.CD',),\n",
       " ('DT.DIS.PRVT.CD',),\n",
       " ('DT.INT.BLAT.CD',),\n",
       " ('DT.INT.DLXF.CD',),\n",
       " ('DT.INT.DPNG.CD',),\n",
       " ('DT.INT.MLAT.CD',),\n",
       " ('DT.INT.OFFT.CD',),\n",
       " ('DT.INT.PBND.CD',),\n",
       " ('DT.INT.PCBK.CD',),\n",
       " ('DT.INT.PROP.CD',),\n",
       " ('DT.INT.PRVT.CD',)]"
      ]
     },
     "execution_count": 33,
     "metadata": {},
     "output_type": "execute_result"
    }
   ],
   "source": [
    "%%sql\n",
    "SELECT DISTINCT(indicator_code) AS distinct_debt_indicators \n",
    "FROM international_debt\n",
    "ORDER BY distinct_debt_indicators;"
   ]
  },
  {
   "cell_type": "markdown",
   "metadata": {
    "dc": {
     "key": "28"
    },
    "deletable": false,
    "editable": false,
    "run_control": {
     "frozen": true
    },
    "tags": [
     "context"
    ]
   },
   "source": [
    "## 4. Totaling the amount of debt owed by the countries\n",
    "<p>As mentioned earlier, the financial debt of a particular country represents its economic state. But if we were to project this on an overall global scale, how will we approach it?</p>\n",
    "<p>Let's switch gears from the debt indicators now and find out the total amount of debt (in USD) that is owed by the different countries. This will give us a sense of how the overall economy of the entire world is holding up.</p>"
   ]
  },
  {
   "cell_type": "code",
   "execution_count": 35,
   "metadata": {
    "dc": {
     "key": "28"
    },
    "tags": [
     "sample_code"
    ]
   },
   "outputs": [
    {
     "name": "stdout",
     "output_type": "stream",
     "text": [
      " * postgresql:///international_debt\n",
      "1 rows affected.\n"
     ]
    },
    {
     "data": {
      "text/html": [
       "<table>\n",
       "    <tr>\n",
       "        <th>total_debt</th>\n",
       "    </tr>\n",
       "    <tr>\n",
       "        <td>3079734.49</td>\n",
       "    </tr>\n",
       "</table>"
      ],
      "text/plain": [
       "[(Decimal('3079734.49'),)]"
      ]
     },
     "execution_count": 35,
     "metadata": {},
     "output_type": "execute_result"
    }
   ],
   "source": [
    "%%sql\n",
    "SELECT \n",
    "    ROUND(SUM(debt)/1000000, 2) AS total_debt\n",
    "FROM international_debt; "
   ]
  },
  {
   "cell_type": "markdown",
   "metadata": {
    "dc": {
     "key": "36"
    },
    "deletable": false,
    "editable": false,
    "run_control": {
     "frozen": true
    },
    "tags": [
     "context"
    ]
   },
   "source": [
    "## 5. Country with the highest debt\n",
    "<p>\"Human beings cannot comprehend very large or very small numbers. It would be useful for us to acknowledge that fact.\" - <a href=\"https://en.wikipedia.org/wiki/Daniel_Kahneman\">Daniel Kahneman</a>. That is more than <em>3 million <strong>million</strong></em> USD, an amount which is really hard for us to fathom. </p>\n",
    "<p>Now that we have the exact total of the amounts of debt owed by several countries, let's now find out the country that owns the highest amount of debt along with the amount. <strong>Note</strong> that this debt is the sum of different debts owed by a country across several categories. This will help to understand more about the country in terms of its socio-economic scenarios. We can also find out the category in which the country owns its highest debt. But we will leave that for now. </p>"
   ]
  },
  {
   "cell_type": "code",
   "execution_count": 37,
   "metadata": {
    "dc": {
     "key": "36"
    },
    "tags": [
     "sample_code"
    ]
   },
   "outputs": [
    {
     "name": "stdout",
     "output_type": "stream",
     "text": [
      " * postgresql:///international_debt\n",
      "1 rows affected.\n"
     ]
    },
    {
     "data": {
      "text/html": [
       "<table>\n",
       "    <tr>\n",
       "        <th>country_name</th>\n",
       "        <th>total_debt</th>\n",
       "    </tr>\n",
       "    <tr>\n",
       "        <td>China</td>\n",
       "        <td>285793494734.200001568</td>\n",
       "    </tr>\n",
       "</table>"
      ],
      "text/plain": [
       "[('China', Decimal('285793494734.200001568'))]"
      ]
     },
     "execution_count": 37,
     "metadata": {},
     "output_type": "execute_result"
    }
   ],
   "source": [
    "%%sql\n",
    "SELECT \n",
    "    country_name, \n",
    "    SUM(debt) AS total_debt\n",
    "FROM international_debt\n",
    "GROUP BY country_name\n",
    "ORDER BY total_debt DESC\n",
    "LIMIT 1;"
   ]
  },
  {
   "cell_type": "markdown",
   "metadata": {
    "dc": {
     "key": "44"
    },
    "deletable": false,
    "editable": false,
    "run_control": {
     "frozen": true
    },
    "tags": [
     "context"
    ]
   },
   "source": [
    "## 6. Average amount of debt across indicators\n",
    "<p>So, it was <em>China</em>. A more in-depth breakdown of China's debts can be found <a href=\"https://datatopics.worldbank.org/debt/ids/country/CHN\">here</a>. </p>\n",
    "<p>We now have a brief overview of the dataset and a few of its summary statistics. We already have an idea of the different debt indicators in which the countries owe their debts. We can dig even further to find out on an average how much debt a country owes? This will give us a better sense of the distribution of the amount of debt across different indicators.</p>"
   ]
  },
  {
   "cell_type": "code",
   "execution_count": 39,
   "metadata": {
    "dc": {
     "key": "44"
    },
    "tags": [
     "sample_code"
    ]
   },
   "outputs": [
    {
     "name": "stdout",
     "output_type": "stream",
     "text": [
      " * postgresql:///international_debt\n",
      "10 rows affected.\n"
     ]
    },
    {
     "data": {
      "text/html": [
       "<table>\n",
       "    <tr>\n",
       "        <th>debt_indicator</th>\n",
       "        <th>indicator_name</th>\n",
       "        <th>average_debt</th>\n",
       "    </tr>\n",
       "    <tr>\n",
       "        <td>DT.INT.PROP.CD</td>\n",
       "        <td>PPG, other private creditors (INT, current US$)</td>\n",
       "        <td>34250651.235185185333</td>\n",
       "    </tr>\n",
       "    <tr>\n",
       "        <td>DT.DIS.PROP.CD</td>\n",
       "        <td>PPG, other private creditors (DIS, current US$)</td>\n",
       "        <td>81135160.699999999895</td>\n",
       "    </tr>\n",
       "    <tr>\n",
       "        <td>DT.INT.MLAT.CD</td>\n",
       "        <td>PPG, multilateral (INT, current US$)</td>\n",
       "        <td>136230719.245161288</td>\n",
       "    </tr>\n",
       "    <tr>\n",
       "        <td>DT.INT.PCBK.CD</td>\n",
       "        <td>PPG, commercial banks (INT, current US$)</td>\n",
       "        <td>156647613.055952384</td>\n",
       "    </tr>\n",
       "    <tr>\n",
       "        <td>DT.INT.BLAT.CD</td>\n",
       "        <td>PPG, bilateral (INT, current US$)</td>\n",
       "        <td>164093285.609016397</td>\n",
       "    </tr>\n",
       "    <tr>\n",
       "        <td>DT.DIS.PCBK.CD</td>\n",
       "        <td>PPG, commercial banks (DIS, current US$)</td>\n",
       "        <td>293305195.594117648</td>\n",
       "    </tr>\n",
       "    <tr>\n",
       "        <td>DT.INT.OFFT.CD</td>\n",
       "        <td>PPG, official creditors (INT, current US$)</td>\n",
       "        <td>297677338.957258067</td>\n",
       "    </tr>\n",
       "    <tr>\n",
       "        <td>DT.DIS.PRVT.CD</td>\n",
       "        <td>PPG, private creditors (DIS, current US$)</td>\n",
       "        <td>311323264.690566033</td>\n",
       "    </tr>\n",
       "    <tr>\n",
       "        <td>DT.AMT.MLAT.CD</td>\n",
       "        <td>PPG, multilateral (AMT, current US$)</td>\n",
       "        <td>490062193.498387090</td>\n",
       "    </tr>\n",
       "    <tr>\n",
       "        <td>DT.AMT.BLAT.CD</td>\n",
       "        <td>PPG, bilateral (AMT, current US$)</td>\n",
       "        <td>712619634.659836064</td>\n",
       "    </tr>\n",
       "</table>"
      ],
      "text/plain": [
       "[('DT.INT.PROP.CD', 'PPG, other private creditors (INT, current US$)', Decimal('34250651.235185185333')),\n",
       " ('DT.DIS.PROP.CD', 'PPG, other private creditors (DIS, current US$)', Decimal('81135160.699999999895')),\n",
       " ('DT.INT.MLAT.CD', 'PPG, multilateral (INT, current US$)', Decimal('136230719.245161288')),\n",
       " ('DT.INT.PCBK.CD', 'PPG, commercial banks (INT, current US$)', Decimal('156647613.055952384')),\n",
       " ('DT.INT.BLAT.CD', 'PPG, bilateral (INT, current US$)', Decimal('164093285.609016397')),\n",
       " ('DT.DIS.PCBK.CD', 'PPG, commercial banks (DIS, current US$)', Decimal('293305195.594117648')),\n",
       " ('DT.INT.OFFT.CD', 'PPG, official creditors (INT, current US$)', Decimal('297677338.957258067')),\n",
       " ('DT.DIS.PRVT.CD', 'PPG, private creditors (DIS, current US$)', Decimal('311323264.690566033')),\n",
       " ('DT.AMT.MLAT.CD', 'PPG, multilateral (AMT, current US$)', Decimal('490062193.498387090')),\n",
       " ('DT.AMT.BLAT.CD', 'PPG, bilateral (AMT, current US$)', Decimal('712619634.659836064'))]"
      ]
     },
     "execution_count": 39,
     "metadata": {},
     "output_type": "execute_result"
    }
   ],
   "source": [
    "%%sql\n",
    "SELECT \n",
    "    indicator_code AS debt_indicator,\n",
    "    indicator_name,\n",
    "    AVG(debt) AS average_debt\n",
    "FROM international_debt\n",
    "GROUP BY debt_indicator, indicator_name\n",
    "ORDER BY average_debt\n",
    "LIMIT 10;"
   ]
  },
  {
   "cell_type": "markdown",
   "metadata": {
    "dc": {
     "key": "52"
    },
    "deletable": false,
    "editable": false,
    "run_control": {
     "frozen": true
    },
    "tags": [
     "context"
    ]
   },
   "source": [
    "## 7. The highest amount of principal repayments\n",
    "<p>We can see that the indicator <code>DT.AMT.DLXF.CD</code> tops the chart of average debt. This category includes repayment of long term debts. Countries take on long-term debt to acquire immediate capital. More information about this category can be found <a href=\"https://datacatalog.worldbank.org/principal-repayments-external-debt-long-term-amt-current-us-0\">here</a>. </p>\n",
    "<p>An interesting observation in the above finding is that there is a huge difference in the amounts of the indicators after the second one. This indicates that the first two indicators might be the most severe categories in which the countries owe their debts.</p>\n",
    "<p>We can investigate this a bit more so as to find out which country owes the highest amount of debt in the category of long term debts (<code>DT.AMT.DLXF.CD</code>). Since not all the countries suffer from the same kind of economic disturbances, this finding will allow us to understand that particular country's economic condition a bit more specifically. </p>"
   ]
  },
  {
   "cell_type": "code",
   "execution_count": 41,
   "metadata": {
    "dc": {
     "key": "52"
    },
    "tags": [
     "sample_code"
    ]
   },
   "outputs": [
    {
     "name": "stdout",
     "output_type": "stream",
     "text": [
      " * postgresql:///international_debt\n",
      "1 rows affected.\n"
     ]
    },
    {
     "data": {
      "text/html": [
       "<table>\n",
       "    <tr>\n",
       "        <th>country_name</th>\n",
       "        <th>indicator_name</th>\n",
       "    </tr>\n",
       "    <tr>\n",
       "        <td>China</td>\n",
       "        <td>Principal repayments on external debt, long-term (AMT, current US$)</td>\n",
       "    </tr>\n",
       "</table>"
      ],
      "text/plain": [
       "[('China', 'Principal repayments on external debt, long-term (AMT, current US$)')]"
      ]
     },
     "execution_count": 41,
     "metadata": {},
     "output_type": "execute_result"
    }
   ],
   "source": [
    "%%sql\n",
    "SELECT \n",
    "    country_name, \n",
    "    indicator_name\n",
    "FROM international_debt\n",
    "WHERE debt = (SELECT \n",
    "                 MAX(debt)\n",
    "             FROM international_debt\n",
    "             WHERE indicator_code ='DT.AMT.DLXF.CD');"
   ]
  },
  {
   "cell_type": "markdown",
   "metadata": {
    "dc": {
     "key": "60"
    },
    "deletable": false,
    "editable": false,
    "run_control": {
     "frozen": true
    },
    "tags": [
     "context"
    ]
   },
   "source": [
    "## 8. The most common debt indicator\n",
    "<p>China has the highest amount of debt in the long-term debt (<code>DT.AMT.DLXF.CD</code>) category. This is verified by <a href=\"https://data.worldbank.org/indicator/DT.AMT.DLXF.CD?end=2018&most_recent_value_desc=true\">The World Bank</a>. It is often a good idea to verify our analyses like this since it validates that our investigations are correct. </p>\n",
    "<p>We saw that long-term debt is the topmost category when it comes to the average amount of debt. But is it the most common indicator in which the countries owe their debt? Let's find that out. </p>"
   ]
  },
  {
   "cell_type": "code",
   "execution_count": 43,
   "metadata": {
    "dc": {
     "key": "60"
    },
    "tags": [
     "sample_code"
    ]
   },
   "outputs": [
    {
     "name": "stdout",
     "output_type": "stream",
     "text": [
      " * postgresql:///international_debt\n",
      "20 rows affected.\n"
     ]
    },
    {
     "data": {
      "text/html": [
       "<table>\n",
       "    <tr>\n",
       "        <th>indicator_code</th>\n",
       "        <th>indicator_count</th>\n",
       "    </tr>\n",
       "    <tr>\n",
       "        <td>DT.INT.MLAT.CD</td>\n",
       "        <td>124</td>\n",
       "    </tr>\n",
       "    <tr>\n",
       "        <td>DT.AMT.OFFT.CD</td>\n",
       "        <td>124</td>\n",
       "    </tr>\n",
       "    <tr>\n",
       "        <td>DT.INT.DLXF.CD</td>\n",
       "        <td>124</td>\n",
       "    </tr>\n",
       "    <tr>\n",
       "        <td>DT.AMT.MLAT.CD</td>\n",
       "        <td>124</td>\n",
       "    </tr>\n",
       "    <tr>\n",
       "        <td>DT.AMT.DLXF.CD</td>\n",
       "        <td>124</td>\n",
       "    </tr>\n",
       "    <tr>\n",
       "        <td>DT.INT.OFFT.CD</td>\n",
       "        <td>124</td>\n",
       "    </tr>\n",
       "    <tr>\n",
       "        <td>DT.DIS.DLXF.CD</td>\n",
       "        <td>123</td>\n",
       "    </tr>\n",
       "    <tr>\n",
       "        <td>DT.DIS.OFFT.CD</td>\n",
       "        <td>122</td>\n",
       "    </tr>\n",
       "    <tr>\n",
       "        <td>DT.INT.BLAT.CD</td>\n",
       "        <td>122</td>\n",
       "    </tr>\n",
       "    <tr>\n",
       "        <td>DT.AMT.BLAT.CD</td>\n",
       "        <td>122</td>\n",
       "    </tr>\n",
       "    <tr>\n",
       "        <td>DT.DIS.MLAT.CD</td>\n",
       "        <td>120</td>\n",
       "    </tr>\n",
       "    <tr>\n",
       "        <td>DT.DIS.BLAT.CD</td>\n",
       "        <td>113</td>\n",
       "    </tr>\n",
       "    <tr>\n",
       "        <td>DT.INT.PRVT.CD</td>\n",
       "        <td>98</td>\n",
       "    </tr>\n",
       "    <tr>\n",
       "        <td>DT.AMT.PRVT.CD</td>\n",
       "        <td>98</td>\n",
       "    </tr>\n",
       "    <tr>\n",
       "        <td>DT.AMT.PCBK.CD</td>\n",
       "        <td>84</td>\n",
       "    </tr>\n",
       "    <tr>\n",
       "        <td>DT.INT.PCBK.CD</td>\n",
       "        <td>84</td>\n",
       "    </tr>\n",
       "    <tr>\n",
       "        <td>DT.INT.DPNG.CD</td>\n",
       "        <td>79</td>\n",
       "    </tr>\n",
       "    <tr>\n",
       "        <td>DT.AMT.DPNG.CD</td>\n",
       "        <td>79</td>\n",
       "    </tr>\n",
       "    <tr>\n",
       "        <td>DT.INT.PBND.CD</td>\n",
       "        <td>69</td>\n",
       "    </tr>\n",
       "    <tr>\n",
       "        <td>DT.AMT.PBND.CD</td>\n",
       "        <td>69</td>\n",
       "    </tr>\n",
       "</table>"
      ],
      "text/plain": [
       "[('DT.INT.MLAT.CD', 124),\n",
       " ('DT.AMT.OFFT.CD', 124),\n",
       " ('DT.INT.DLXF.CD', 124),\n",
       " ('DT.AMT.MLAT.CD', 124),\n",
       " ('DT.AMT.DLXF.CD', 124),\n",
       " ('DT.INT.OFFT.CD', 124),\n",
       " ('DT.DIS.DLXF.CD', 123),\n",
       " ('DT.DIS.OFFT.CD', 122),\n",
       " ('DT.INT.BLAT.CD', 122),\n",
       " ('DT.AMT.BLAT.CD', 122),\n",
       " ('DT.DIS.MLAT.CD', 120),\n",
       " ('DT.DIS.BLAT.CD', 113),\n",
       " ('DT.INT.PRVT.CD', 98),\n",
       " ('DT.AMT.PRVT.CD', 98),\n",
       " ('DT.AMT.PCBK.CD', 84),\n",
       " ('DT.INT.PCBK.CD', 84),\n",
       " ('DT.INT.DPNG.CD', 79),\n",
       " ('DT.AMT.DPNG.CD', 79),\n",
       " ('DT.INT.PBND.CD', 69),\n",
       " ('DT.AMT.PBND.CD', 69)]"
      ]
     },
     "execution_count": 43,
     "metadata": {},
     "output_type": "execute_result"
    }
   ],
   "source": [
    "%%sql\n",
    "SELECT indicator_code, COUNT(*) AS indicator_count\n",
    "FROM international_debt\n",
    "GROUP BY indicator_code\n",
    "ORDER BY indicator_count DESC\n",
    "LIMIT 20;"
   ]
  },
  {
   "cell_type": "markdown",
   "metadata": {
    "dc": {
     "key": "68"
    },
    "deletable": false,
    "editable": false,
    "run_control": {
     "frozen": true
    },
    "tags": [
     "context"
    ]
   },
   "source": [
    "## 9. Other viable debt issues and conclusion\n",
    "<p>There are a total of six debt indicators in which all the countries listed in our dataset have taken debt. The indicator <code>DT.AMT.DLXF.CD</code> is also there in the list. So, this gives us a clue that all these countries are suffering from a common economic issue. But that is not the end of the story, but just a part of the story. </p>\n",
    "<p>Let's change tracks from <code>debt_indicator</code>s now and focus on the amount of debt again. Let's find out the maximum amount of debt for an indicator that each country has. With this, we will be in a position to identify the other plausible economic issues a country might be going through.</p>\n",
    "<p>In this notebook, we took a look at debt owed by countries across the globe. We extracted a few summary statistics from the data and unraveled some interesting facts and figures. We also validated our findings to make sure the investigations are correct.</p>"
   ]
  },
  {
   "cell_type": "code",
   "execution_count": 45,
   "metadata": {
    "dc": {
     "key": "68"
    },
    "tags": [
     "sample_code"
    ]
   },
   "outputs": [
    {
     "name": "stdout",
     "output_type": "stream",
     "text": [
      " * postgresql:///international_debt\n",
      "10 rows affected.\n"
     ]
    },
    {
     "data": {
      "text/html": [
       "<table>\n",
       "    <tr>\n",
       "        <th>country_name</th>\n",
       "        <th>maximum_debt</th>\n",
       "    </tr>\n",
       "    <tr>\n",
       "        <td>China</td>\n",
       "        <td>96218620835.699996948</td>\n",
       "    </tr>\n",
       "    <tr>\n",
       "        <td>Brazil</td>\n",
       "        <td>90041840304.100006104</td>\n",
       "    </tr>\n",
       "    <tr>\n",
       "        <td>Russian Federation</td>\n",
       "        <td>66589761833.5</td>\n",
       "    </tr>\n",
       "    <tr>\n",
       "        <td>Turkey</td>\n",
       "        <td>51555031005.800003052</td>\n",
       "    </tr>\n",
       "    <tr>\n",
       "        <td>South Asia</td>\n",
       "        <td>48756295898.199996948</td>\n",
       "    </tr>\n",
       "    <tr>\n",
       "        <td>Least developed countries: UN classification</td>\n",
       "        <td>40160766261.599998474</td>\n",
       "    </tr>\n",
       "    <tr>\n",
       "        <td>IDA only</td>\n",
       "        <td>34531188113.199996948</td>\n",
       "    </tr>\n",
       "    <tr>\n",
       "        <td>India</td>\n",
       "        <td>31923507000.799999237</td>\n",
       "    </tr>\n",
       "    <tr>\n",
       "        <td>Indonesia</td>\n",
       "        <td>30916112653.799999237</td>\n",
       "    </tr>\n",
       "    <tr>\n",
       "        <td>Kazakhstan</td>\n",
       "        <td>27482093686.400001526</td>\n",
       "    </tr>\n",
       "</table>"
      ],
      "text/plain": [
       "[('China', Decimal('96218620835.699996948')),\n",
       " ('Brazil', Decimal('90041840304.100006104')),\n",
       " ('Russian Federation', Decimal('66589761833.5')),\n",
       " ('Turkey', Decimal('51555031005.800003052')),\n",
       " ('South Asia', Decimal('48756295898.199996948')),\n",
       " ('Least developed countries: UN classification', Decimal('40160766261.599998474')),\n",
       " ('IDA only', Decimal('34531188113.199996948')),\n",
       " ('India', Decimal('31923507000.799999237')),\n",
       " ('Indonesia', Decimal('30916112653.799999237')),\n",
       " ('Kazakhstan', Decimal('27482093686.400001526'))]"
      ]
     },
     "execution_count": 45,
     "metadata": {},
     "output_type": "execute_result"
    }
   ],
   "source": [
    "%%sql\n",
    "SELECT country_name, MAX(debt) AS maximum_debt\n",
    "FROM international_debt\n",
    "GROUP BY country_name\n",
    "ORDER BY maximum_debt DESC\n",
    "LIMIT 10;"
   ]
  }
 ],
 "metadata": {
  "kernelspec": {
   "display_name": "Python 3",
   "language": "python",
   "name": "python3"
  },
  "language_info": {
   "codemirror_mode": {
    "name": "ipython",
    "version": 3
   },
   "file_extension": ".py",
   "mimetype": "text/x-python",
   "name": "python",
   "nbconvert_exporter": "python",
   "pygments_lexer": "ipython3",
   "version": "3.7.6"
  }
 },
 "nbformat": 4,
 "nbformat_minor": 2
}
